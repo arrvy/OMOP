{
 "cells": [
  {
   "cell_type": "markdown",
   "id": "f96f5f15",
   "metadata": {
    "vscode": {
     "languageId": "plaintext"
    }
   },
   "source": [
    "# Laporan Projek\n",
    "# Membuat aplikasi simulasi analisis rangkaian listrik berbasis metode matriks node & mesh\n"
   ]
  },
  {
   "cell_type": "markdown",
   "id": "66e88d35",
   "metadata": {},
   "source": []
  }
 ],
 "metadata": {
  "language_info": {
   "name": "python"
  }
 },
 "nbformat": 4,
 "nbformat_minor": 5
}
