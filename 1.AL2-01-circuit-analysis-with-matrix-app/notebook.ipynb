{
 "cells": [
  {
   "cell_type": "markdown",
   "id": "f96f5f15",
   "metadata": {
    "vscode": {
     "languageId": "plaintext"
    }
   },
   "source": [
    "# Laporan Projek\n",
    "# Membuat aplikasi simulasi analisis rangkaian listrik berbasis metode matriks node & mesh\n"
   ]
  },
  {
   "cell_type": "markdown",
   "id": "66e88d35",
   "metadata": {},
   "source": []
  },
  {
   "cell_type": "markdown",
   "id": "1a047678",
   "metadata": {},
   "source": [
    "\n",
    "\n",
    "\n",
    "\n",
    "\n",
    "\n",
    "$$\n",
    "\\begin{bmatrix}\n",
    "20+10 & -20      & -10 \\\\\n",
    "-20   & 20+30+5  & -5  \\\\\n",
    "-10   & -5       & 10+5+5\n",
    "\\end{bmatrix}\n",
    "\\begin{bmatrix}\n",
    "I_1 \\\\ I_2 \\\\ I_3\n",
    "\\end{bmatrix}\n",
    "=\n",
    "\\begin{bmatrix}\n",
    "100 \\\\ 0 \\\\ 0\n",
    "\\end{bmatrix}\n",
    "$$\n"
   ]
  },
  {
   "cell_type": "code",
   "execution_count": null,
   "id": "d35bf455",
   "metadata": {},
   "outputs": [],
   "source": []
  }
 ],
 "metadata": {
  "kernelspec": {
   "display_name": "env",
   "language": "python",
   "name": "python3"
  },
  "language_info": {
   "name": "python",
   "version": "3.13.2"
  }
 },
 "nbformat": 4,
 "nbformat_minor": 5
}
